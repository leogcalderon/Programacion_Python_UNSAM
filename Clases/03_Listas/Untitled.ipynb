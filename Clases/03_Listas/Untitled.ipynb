{
 "cells": [
  {
   "cell_type": "code",
   "execution_count": 105,
   "metadata": {},
   "outputs": [],
   "source": [
    "def buscar_elemento(lista,elemento):\n",
    "    '''\n",
    "    Busca posiciones del elemento en lista\n",
    "    '''\n",
    "    idx = []\n",
    "    for i, e in enumerate(lista):\n",
    "        if lista[i] == elemento:\n",
    "            idx.append(i)\n",
    "    return idx"
   ]
  },
  {
   "cell_type": "code",
   "execution_count": 196,
   "metadata": {},
   "outputs": [],
   "source": [
    "def propagar_adyacentes(lista):\n",
    "    '''\n",
    "    Creo copia de la lista para ir modificandola\n",
    "    '''\n",
    "    propagado = lista.copy()\n",
    "    \n",
    "    '''\n",
    "    Busco indices de los que estan prendidos\n",
    "    '''\n",
    "    idx_prendidos = buscar_elemento(lista,1)\n",
    "    \n",
    "    '''\n",
    "    Modifico los fosforos adyacentes\n",
    "    '''\n",
    "    for idx in idx_prendidos:\n",
    "        if idx != 0:\n",
    "            if lista[idx-1] == 0:\n",
    "                propagado[idx-1] = 1\n",
    "        if idx != (len(lista) - 1):\n",
    "            if lista[idx+1] == 0:\n",
    "                propagado[idx+1] = 1\n",
    "            \n",
    "    return propagado"
   ]
  },
  {
   "cell_type": "code",
   "execution_count": 197,
   "metadata": {},
   "outputs": [],
   "source": [
    "def buscar_no_encendidos(lista):\n",
    "    '''\n",
    "    Devuelve True si hay fosforos 0 al lado de fosforos 1.\n",
    "    '''\n",
    "    faltan = False\n",
    "    \n",
    "    for i,e in enumerate(lista):\n",
    "        '''Primer fosforo'''\n",
    "        if i == 0:\n",
    "            if e == 0 and lista[i+1] == 1:\n",
    "                faltan = True\n",
    "                \n",
    "        '''Ultimo fosforo'''\n",
    "        if i == (len(lista) - 1):\n",
    "            if e == 0 and lista[i-1] == 1:\n",
    "                faltan = True\n",
    "                \n",
    "        '''Fosforos intermedios'''\n",
    "        if i != 0 and i != (len(lista) - 1):\n",
    "            if (e == 0 and lista[i-1] == 1) or (e == 0 and lista[i+1] == 1):\n",
    "                faltan = True\n",
    "                \n",
    "    return faltan"
   ]
  },
  {
   "cell_type": "code",
   "execution_count": 198,
   "metadata": {},
   "outputs": [],
   "source": [
    "def propagacion(lista):\n",
    "    '''\n",
    "    Mientras falten potenciales fosforos (0 al lado de 1) \n",
    "    sigo propagando.\n",
    "    '''\n",
    "    faltan = True\n",
    "    \n",
    "    while faltan:\n",
    "        lista = propagar_adyacentes(lista)\n",
    "        faltan = buscar_no_encendidos(lista)\n",
    "        \n",
    "    return lista\n",
    "    "
   ]
  },
  {
   "cell_type": "code",
   "execution_count": 207,
   "metadata": {},
   "outputs": [],
   "source": [
    "a = [1,2,3]\n",
    "b = a.copy()"
   ]
  },
  {
   "cell_type": "code",
   "execution_count": 208,
   "metadata": {},
   "outputs": [
    {
     "data": {
      "text/plain": [
       "139988915359328"
      ]
     },
     "execution_count": 208,
     "metadata": {},
     "output_type": "execute_result"
    }
   ],
   "source": [
    "id(a)"
   ]
  },
  {
   "cell_type": "code",
   "execution_count": 209,
   "metadata": {},
   "outputs": [
    {
     "data": {
      "text/plain": [
       "139988915365200"
      ]
     },
     "execution_count": 209,
     "metadata": {},
     "output_type": "execute_result"
    }
   ],
   "source": [
    "id(b)"
   ]
  },
  {
   "cell_type": "code",
   "execution_count": 210,
   "metadata": {},
   "outputs": [],
   "source": [
    "import copy\n",
    "c = copy.deepcopy(a)"
   ]
  },
  {
   "cell_type": "code",
   "execution_count": 216,
   "metadata": {},
   "outputs": [
    {
     "data": {
      "text/plain": [
       "True"
      ]
     },
     "execution_count": 216,
     "metadata": {},
     "output_type": "execute_result"
    }
   ],
   "source": [
    "isinstance(1.,float)"
   ]
  },
  {
   "cell_type": "code",
   "execution_count": null,
   "metadata": {},
   "outputs": [],
   "source": []
  },
  {
   "cell_type": "code",
   "execution_count": null,
   "metadata": {},
   "outputs": [],
   "source": []
  }
 ],
 "metadata": {
  "kernelspec": {
   "display_name": "Python 3",
   "language": "python",
   "name": "python3"
  },
  "language_info": {
   "codemirror_mode": {
    "name": "ipython",
    "version": 3
   },
   "file_extension": ".py",
   "mimetype": "text/x-python",
   "name": "python",
   "nbconvert_exporter": "python",
   "pygments_lexer": "ipython3",
   "version": "3.7.6"
  }
 },
 "nbformat": 4,
 "nbformat_minor": 4
}
